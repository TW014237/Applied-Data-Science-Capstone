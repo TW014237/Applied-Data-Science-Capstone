{
 "cells": [
  {
   "cell_type": "markdown",
   "metadata": {},
   "source": [
    "Segmenting and Clustering Neighborhoods in Toronto"
   ]
  },
  {
   "cell_type": "code",
   "execution_count": 1,
   "metadata": {},
   "outputs": [],
   "source": [
    "import pandas as pd\n",
    "import numpy as np\n",
    "import folium\n",
    "import matplotlib.cm as cm\n",
    "import matplotlib.colors as colors\n",
    "from sklearn.cluster import KMeans"
   ]
  },
  {
   "cell_type": "code",
   "execution_count": 2,
   "metadata": {},
   "outputs": [],
   "source": [
    "tables = pd.read_html(\"https://en.wikipedia.org/wiki/List_of_postal_codes_of_Canada:_M\")"
   ]
  },
  {
   "cell_type": "code",
   "execution_count": 3,
   "metadata": {},
   "outputs": [],
   "source": [
    "df = tables[0]"
   ]
  },
  {
   "cell_type": "code",
   "execution_count": 4,
   "metadata": {},
   "outputs": [],
   "source": [
    "df.columns = [\"PostalCode\", \"Borough\", \"Neighborhood\"]"
   ]
  },
  {
   "cell_type": "code",
   "execution_count": 5,
   "metadata": {},
   "outputs": [],
   "source": [
    "df = df[df[\"Borough\"] != \"Not assigned\"]"
   ]
  },
  {
   "cell_type": "code",
   "execution_count": 6,
   "metadata": {},
   "outputs": [],
   "source": [
    "df = df.groupby([\"PostalCode\", \"Borough\"])[\"Neighborhood\"].apply(', '.join).reset_index()"
   ]
  },
  {
   "cell_type": "code",
   "execution_count": 7,
   "metadata": {},
   "outputs": [],
   "source": [
    "df[\"Neighborhood\"] = np.where(df[\"Neighborhood\"] == \"Not assigned\", df[\"Borough\"], df[\"Neighborhood\"])"
   ]
  },
  {
   "cell_type": "code",
   "execution_count": 8,
   "metadata": {},
   "outputs": [
    {
     "data": {
      "text/html": [
       "<div>\n",
       "<style scoped>\n",
       "    .dataframe tbody tr th:only-of-type {\n",
       "        vertical-align: middle;\n",
       "    }\n",
       "\n",
       "    .dataframe tbody tr th {\n",
       "        vertical-align: top;\n",
       "    }\n",
       "\n",
       "    .dataframe thead th {\n",
       "        text-align: right;\n",
       "    }\n",
       "</style>\n",
       "<table border=\"1\" class=\"dataframe\">\n",
       "  <thead>\n",
       "    <tr style=\"text-align: right;\">\n",
       "      <th></th>\n",
       "      <th>PostalCode</th>\n",
       "      <th>Borough</th>\n",
       "      <th>Neighborhood</th>\n",
       "    </tr>\n",
       "  </thead>\n",
       "  <tbody>\n",
       "    <tr>\n",
       "      <th>0</th>\n",
       "      <td>M1B</td>\n",
       "      <td>Scarborough</td>\n",
       "      <td>Rouge, Malvern</td>\n",
       "    </tr>\n",
       "    <tr>\n",
       "      <th>1</th>\n",
       "      <td>M1C</td>\n",
       "      <td>Scarborough</td>\n",
       "      <td>Highland Creek, Rouge Hill, Port Union</td>\n",
       "    </tr>\n",
       "    <tr>\n",
       "      <th>2</th>\n",
       "      <td>M1E</td>\n",
       "      <td>Scarborough</td>\n",
       "      <td>Guildwood, Morningside, West Hill</td>\n",
       "    </tr>\n",
       "    <tr>\n",
       "      <th>3</th>\n",
       "      <td>M1G</td>\n",
       "      <td>Scarborough</td>\n",
       "      <td>Woburn</td>\n",
       "    </tr>\n",
       "    <tr>\n",
       "      <th>4</th>\n",
       "      <td>M1H</td>\n",
       "      <td>Scarborough</td>\n",
       "      <td>Cedarbrae</td>\n",
       "    </tr>\n",
       "  </tbody>\n",
       "</table>\n",
       "</div>"
      ],
      "text/plain": [
       "  PostalCode      Borough                            Neighborhood\n",
       "0        M1B  Scarborough                          Rouge, Malvern\n",
       "1        M1C  Scarborough  Highland Creek, Rouge Hill, Port Union\n",
       "2        M1E  Scarborough       Guildwood, Morningside, West Hill\n",
       "3        M1G  Scarborough                                  Woburn\n",
       "4        M1H  Scarborough                               Cedarbrae"
      ]
     },
     "execution_count": 8,
     "metadata": {},
     "output_type": "execute_result"
    }
   ],
   "source": [
    "df.head()"
   ]
  },
  {
   "cell_type": "code",
   "execution_count": 9,
   "metadata": {},
   "outputs": [
    {
     "name": "stdout",
     "output_type": "stream",
     "text": [
      "(103, 3)\n"
     ]
    }
   ],
   "source": [
    "print(df.shape)"
   ]
  },
  {
   "cell_type": "code",
   "execution_count": 10,
   "metadata": {},
   "outputs": [
    {
     "data": {
      "text/html": [
       "<div>\n",
       "<style scoped>\n",
       "    .dataframe tbody tr th:only-of-type {\n",
       "        vertical-align: middle;\n",
       "    }\n",
       "\n",
       "    .dataframe tbody tr th {\n",
       "        vertical-align: top;\n",
       "    }\n",
       "\n",
       "    .dataframe thead th {\n",
       "        text-align: right;\n",
       "    }\n",
       "</style>\n",
       "<table border=\"1\" class=\"dataframe\">\n",
       "  <thead>\n",
       "    <tr style=\"text-align: right;\">\n",
       "      <th></th>\n",
       "      <th>Postal Code</th>\n",
       "      <th>Latitude</th>\n",
       "      <th>Longitude</th>\n",
       "    </tr>\n",
       "  </thead>\n",
       "  <tbody>\n",
       "    <tr>\n",
       "      <th>0</th>\n",
       "      <td>M1B</td>\n",
       "      <td>43.806686</td>\n",
       "      <td>-79.194353</td>\n",
       "    </tr>\n",
       "    <tr>\n",
       "      <th>1</th>\n",
       "      <td>M1C</td>\n",
       "      <td>43.784535</td>\n",
       "      <td>-79.160497</td>\n",
       "    </tr>\n",
       "    <tr>\n",
       "      <th>2</th>\n",
       "      <td>M1E</td>\n",
       "      <td>43.763573</td>\n",
       "      <td>-79.188711</td>\n",
       "    </tr>\n",
       "    <tr>\n",
       "      <th>3</th>\n",
       "      <td>M1G</td>\n",
       "      <td>43.770992</td>\n",
       "      <td>-79.216917</td>\n",
       "    </tr>\n",
       "    <tr>\n",
       "      <th>4</th>\n",
       "      <td>M1H</td>\n",
       "      <td>43.773136</td>\n",
       "      <td>-79.239476</td>\n",
       "    </tr>\n",
       "  </tbody>\n",
       "</table>\n",
       "</div>"
      ],
      "text/plain": [
       "  Postal Code   Latitude  Longitude\n",
       "0         M1B  43.806686 -79.194353\n",
       "1         M1C  43.784535 -79.160497\n",
       "2         M1E  43.763573 -79.188711\n",
       "3         M1G  43.770992 -79.216917\n",
       "4         M1H  43.773136 -79.239476"
      ]
     },
     "execution_count": 10,
     "metadata": {},
     "output_type": "execute_result"
    }
   ],
   "source": [
    "coordinates = pd.read_csv(\"Geospatial_Coordinates.csv\")\n",
    "coordinates.head()"
   ]
  },
  {
   "cell_type": "code",
   "execution_count": 11,
   "metadata": {},
   "outputs": [
    {
     "data": {
      "text/html": [
       "<div>\n",
       "<style scoped>\n",
       "    .dataframe tbody tr th:only-of-type {\n",
       "        vertical-align: middle;\n",
       "    }\n",
       "\n",
       "    .dataframe tbody tr th {\n",
       "        vertical-align: top;\n",
       "    }\n",
       "\n",
       "    .dataframe thead th {\n",
       "        text-align: right;\n",
       "    }\n",
       "</style>\n",
       "<table border=\"1\" class=\"dataframe\">\n",
       "  <thead>\n",
       "    <tr style=\"text-align: right;\">\n",
       "      <th></th>\n",
       "      <th>PostalCode</th>\n",
       "      <th>Borough</th>\n",
       "      <th>Neighborhood</th>\n",
       "      <th>Postal Code</th>\n",
       "      <th>Latitude</th>\n",
       "      <th>Longitude</th>\n",
       "    </tr>\n",
       "  </thead>\n",
       "  <tbody>\n",
       "    <tr>\n",
       "      <th>0</th>\n",
       "      <td>M1B</td>\n",
       "      <td>Scarborough</td>\n",
       "      <td>Rouge, Malvern</td>\n",
       "      <td>M1B</td>\n",
       "      <td>43.806686</td>\n",
       "      <td>-79.194353</td>\n",
       "    </tr>\n",
       "    <tr>\n",
       "      <th>1</th>\n",
       "      <td>M1C</td>\n",
       "      <td>Scarborough</td>\n",
       "      <td>Highland Creek, Rouge Hill, Port Union</td>\n",
       "      <td>M1C</td>\n",
       "      <td>43.784535</td>\n",
       "      <td>-79.160497</td>\n",
       "    </tr>\n",
       "    <tr>\n",
       "      <th>2</th>\n",
       "      <td>M1E</td>\n",
       "      <td>Scarborough</td>\n",
       "      <td>Guildwood, Morningside, West Hill</td>\n",
       "      <td>M1E</td>\n",
       "      <td>43.763573</td>\n",
       "      <td>-79.188711</td>\n",
       "    </tr>\n",
       "    <tr>\n",
       "      <th>3</th>\n",
       "      <td>M1G</td>\n",
       "      <td>Scarborough</td>\n",
       "      <td>Woburn</td>\n",
       "      <td>M1G</td>\n",
       "      <td>43.770992</td>\n",
       "      <td>-79.216917</td>\n",
       "    </tr>\n",
       "    <tr>\n",
       "      <th>4</th>\n",
       "      <td>M1H</td>\n",
       "      <td>Scarborough</td>\n",
       "      <td>Cedarbrae</td>\n",
       "      <td>M1H</td>\n",
       "      <td>43.773136</td>\n",
       "      <td>-79.239476</td>\n",
       "    </tr>\n",
       "  </tbody>\n",
       "</table>\n",
       "</div>"
      ],
      "text/plain": [
       "  PostalCode      Borough                            Neighborhood Postal Code  \\\n",
       "0        M1B  Scarborough                          Rouge, Malvern         M1B   \n",
       "1        M1C  Scarborough  Highland Creek, Rouge Hill, Port Union         M1C   \n",
       "2        M1E  Scarborough       Guildwood, Morningside, West Hill         M1E   \n",
       "3        M1G  Scarborough                                  Woburn         M1G   \n",
       "4        M1H  Scarborough                               Cedarbrae         M1H   \n",
       "\n",
       "    Latitude  Longitude  \n",
       "0  43.806686 -79.194353  \n",
       "1  43.784535 -79.160497  \n",
       "2  43.763573 -79.188711  \n",
       "3  43.770992 -79.216917  \n",
       "4  43.773136 -79.239476  "
      ]
     },
     "execution_count": 11,
     "metadata": {},
     "output_type": "execute_result"
    }
   ],
   "source": [
    "merged = pd.merge(df, coordinates, left_on=\"PostalCode\", right_on=\"Postal Code\")\n",
    "merged.head()"
   ]
  },
  {
   "cell_type": "code",
   "execution_count": 12,
   "metadata": {
    "scrolled": true
   },
   "outputs": [
    {
     "name": "stderr",
     "output_type": "stream",
     "text": [
      "C:\\Users\\admin\\Anaconda3\\lib\\site-packages\\pandas\\core\\frame.py:4117: SettingWithCopyWarning: \n",
      "A value is trying to be set on a copy of a slice from a DataFrame\n",
      "\n",
      "See the caveats in the documentation: http://pandas.pydata.org/pandas-docs/stable/user_guide/indexing.html#returning-a-view-versus-a-copy\n",
      "  errors=errors,\n"
     ]
    },
    {
     "data": {
      "text/html": [
       "<div>\n",
       "<style scoped>\n",
       "    .dataframe tbody tr th:only-of-type {\n",
       "        vertical-align: middle;\n",
       "    }\n",
       "\n",
       "    .dataframe tbody tr th {\n",
       "        vertical-align: top;\n",
       "    }\n",
       "\n",
       "    .dataframe thead th {\n",
       "        text-align: right;\n",
       "    }\n",
       "</style>\n",
       "<table border=\"1\" class=\"dataframe\">\n",
       "  <thead>\n",
       "    <tr style=\"text-align: right;\">\n",
       "      <th></th>\n",
       "      <th>PostalCode</th>\n",
       "      <th>Borough</th>\n",
       "      <th>Neighborhood</th>\n",
       "      <th>Latitude</th>\n",
       "      <th>Longitude</th>\n",
       "    </tr>\n",
       "  </thead>\n",
       "  <tbody>\n",
       "    <tr>\n",
       "      <th>37</th>\n",
       "      <td>M4E</td>\n",
       "      <td>East Toronto</td>\n",
       "      <td>The Beaches</td>\n",
       "      <td>43.676357</td>\n",
       "      <td>-79.293031</td>\n",
       "    </tr>\n",
       "    <tr>\n",
       "      <th>41</th>\n",
       "      <td>M4K</td>\n",
       "      <td>East Toronto</td>\n",
       "      <td>The Danforth West, Riverdale</td>\n",
       "      <td>43.679557</td>\n",
       "      <td>-79.352188</td>\n",
       "    </tr>\n",
       "    <tr>\n",
       "      <th>42</th>\n",
       "      <td>M4L</td>\n",
       "      <td>East Toronto</td>\n",
       "      <td>The Beaches West, India Bazaar</td>\n",
       "      <td>43.668999</td>\n",
       "      <td>-79.315572</td>\n",
       "    </tr>\n",
       "    <tr>\n",
       "      <th>43</th>\n",
       "      <td>M4M</td>\n",
       "      <td>East Toronto</td>\n",
       "      <td>Studio District</td>\n",
       "      <td>43.659526</td>\n",
       "      <td>-79.340923</td>\n",
       "    </tr>\n",
       "    <tr>\n",
       "      <th>44</th>\n",
       "      <td>M4N</td>\n",
       "      <td>Central Toronto</td>\n",
       "      <td>Lawrence Park</td>\n",
       "      <td>43.728020</td>\n",
       "      <td>-79.388790</td>\n",
       "    </tr>\n",
       "  </tbody>\n",
       "</table>\n",
       "</div>"
      ],
      "text/plain": [
       "   PostalCode          Borough                    Neighborhood   Latitude  \\\n",
       "37        M4E     East Toronto                     The Beaches  43.676357   \n",
       "41        M4K     East Toronto    The Danforth West, Riverdale  43.679557   \n",
       "42        M4L     East Toronto  The Beaches West, India Bazaar  43.668999   \n",
       "43        M4M     East Toronto                 Studio District  43.659526   \n",
       "44        M4N  Central Toronto                   Lawrence Park  43.728020   \n",
       "\n",
       "    Longitude  \n",
       "37 -79.293031  \n",
       "41 -79.352188  \n",
       "42 -79.315572  \n",
       "43 -79.340923  \n",
       "44 -79.388790  "
      ]
     },
     "execution_count": 12,
     "metadata": {},
     "output_type": "execute_result"
    }
   ],
   "source": [
    "toranto = merged[merged[\"Borough\"].str.contains(pat=\"Toronto\")]\n",
    "toranto.drop(\"Postal Code\", axis=1, inplace=True)\n",
    "toranto.head()"
   ]
  },
  {
   "cell_type": "code",
   "execution_count": 13,
   "metadata": {},
   "outputs": [
    {
     "data": {
      "text/plain": [
       "array([0, 0, 0, 0, 1, 1, 1, 1, 1, 1])"
      ]
     },
     "execution_count": 13,
     "metadata": {},
     "output_type": "execute_result"
    }
   ],
   "source": [
    "kclusters = 5\n",
    "\n",
    "toranto_grouped_clustering = toranto.drop([\"PostalCode\", \"Borough\", \"Neighborhood\"], 1)\n",
    "\n",
    "kmeans = KMeans(n_clusters=kclusters, random_state=0).fit(toranto_grouped_clustering)\n",
    "\n",
    "kmeans.labels_[0:10] "
   ]
  },
  {
   "cell_type": "code",
   "execution_count": 14,
   "metadata": {},
   "outputs": [
    {
     "name": "stderr",
     "output_type": "stream",
     "text": [
      "C:\\Users\\admin\\Anaconda3\\lib\\site-packages\\ipykernel_launcher.py:1: SettingWithCopyWarning: \n",
      "A value is trying to be set on a copy of a slice from a DataFrame.\n",
      "Try using .loc[row_indexer,col_indexer] = value instead\n",
      "\n",
      "See the caveats in the documentation: http://pandas.pydata.org/pandas-docs/stable/user_guide/indexing.html#returning-a-view-versus-a-copy\n",
      "  \"\"\"Entry point for launching an IPython kernel.\n"
     ]
    },
    {
     "data": {
      "text/html": [
       "<div>\n",
       "<style scoped>\n",
       "    .dataframe tbody tr th:only-of-type {\n",
       "        vertical-align: middle;\n",
       "    }\n",
       "\n",
       "    .dataframe tbody tr th {\n",
       "        vertical-align: top;\n",
       "    }\n",
       "\n",
       "    .dataframe thead th {\n",
       "        text-align: right;\n",
       "    }\n",
       "</style>\n",
       "<table border=\"1\" class=\"dataframe\">\n",
       "  <thead>\n",
       "    <tr style=\"text-align: right;\">\n",
       "      <th></th>\n",
       "      <th>PostalCode</th>\n",
       "      <th>Borough</th>\n",
       "      <th>Neighborhood</th>\n",
       "      <th>Latitude</th>\n",
       "      <th>Longitude</th>\n",
       "      <th>Cluster Labels</th>\n",
       "    </tr>\n",
       "  </thead>\n",
       "  <tbody>\n",
       "    <tr>\n",
       "      <th>37</th>\n",
       "      <td>M4E</td>\n",
       "      <td>East Toronto</td>\n",
       "      <td>The Beaches</td>\n",
       "      <td>43.676357</td>\n",
       "      <td>-79.293031</td>\n",
       "      <td>0</td>\n",
       "    </tr>\n",
       "    <tr>\n",
       "      <th>41</th>\n",
       "      <td>M4K</td>\n",
       "      <td>East Toronto</td>\n",
       "      <td>The Danforth West, Riverdale</td>\n",
       "      <td>43.679557</td>\n",
       "      <td>-79.352188</td>\n",
       "      <td>0</td>\n",
       "    </tr>\n",
       "    <tr>\n",
       "      <th>42</th>\n",
       "      <td>M4L</td>\n",
       "      <td>East Toronto</td>\n",
       "      <td>The Beaches West, India Bazaar</td>\n",
       "      <td>43.668999</td>\n",
       "      <td>-79.315572</td>\n",
       "      <td>0</td>\n",
       "    </tr>\n",
       "    <tr>\n",
       "      <th>43</th>\n",
       "      <td>M4M</td>\n",
       "      <td>East Toronto</td>\n",
       "      <td>Studio District</td>\n",
       "      <td>43.659526</td>\n",
       "      <td>-79.340923</td>\n",
       "      <td>0</td>\n",
       "    </tr>\n",
       "    <tr>\n",
       "      <th>44</th>\n",
       "      <td>M4N</td>\n",
       "      <td>Central Toronto</td>\n",
       "      <td>Lawrence Park</td>\n",
       "      <td>43.728020</td>\n",
       "      <td>-79.388790</td>\n",
       "      <td>1</td>\n",
       "    </tr>\n",
       "  </tbody>\n",
       "</table>\n",
       "</div>"
      ],
      "text/plain": [
       "   PostalCode          Borough                    Neighborhood   Latitude  \\\n",
       "37        M4E     East Toronto                     The Beaches  43.676357   \n",
       "41        M4K     East Toronto    The Danforth West, Riverdale  43.679557   \n",
       "42        M4L     East Toronto  The Beaches West, India Bazaar  43.668999   \n",
       "43        M4M     East Toronto                 Studio District  43.659526   \n",
       "44        M4N  Central Toronto                   Lawrence Park  43.728020   \n",
       "\n",
       "    Longitude  Cluster Labels  \n",
       "37 -79.293031               0  \n",
       "41 -79.352188               0  \n",
       "42 -79.315572               0  \n",
       "43 -79.340923               0  \n",
       "44 -79.388790               1  "
      ]
     },
     "execution_count": 14,
     "metadata": {},
     "output_type": "execute_result"
    }
   ],
   "source": [
    "toranto[\"Cluster Labels\"] = kmeans.labels_\n",
    "\n",
    "toranto.head()"
   ]
  },
  {
   "cell_type": "code",
   "execution_count": 15,
   "metadata": {},
   "outputs": [
    {
     "data": {
      "text/html": [
       "<div style=\"width:100%;\"><div style=\"position:relative;width:100%;height:0;padding-bottom:60%;\"><iframe src=\"data:text/html;charset=utf-8;base64,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\" style=\"position:absolute;width:100%;height:100%;left:0;top:0;border:none !important;\" allowfullscreen webkitallowfullscreen mozallowfullscreen></iframe></div></div>"
      ],
      "text/plain": [
       "<folium.folium.Map at 0x21a38e4c358>"
      ]
     },
     "execution_count": 15,
     "metadata": {},
     "output_type": "execute_result"
    }
   ],
   "source": [
    "map_clusters = folium.Map(location=[43.653963, -79.387207], zoom_start=11)\n",
    "\n",
    "x = np.arange(kclusters)\n",
    "ys = [i + x + (i*x)**2 for i in range(kclusters)]\n",
    "colors_array = cm.rainbow(np.linspace(0, 1, len(ys)))\n",
    "rainbow = [colors.rgb2hex(i) for i in colors_array]\n",
    "\n",
    "markers_colors = []\n",
    "for lat, lon, poi, cluster in zip(toranto['Latitude'], toranto['Longitude'], toranto['Neighborhood'], toranto['Cluster Labels']):\n",
    "    label = folium.Popup(str(poi) + ' Cluster ' + str(cluster), parse_html=True)\n",
    "    folium.CircleMarker(\n",
    "        [lat, lon],\n",
    "        radius=5,\n",
    "        popup=label,\n",
    "        color=rainbow[cluster-1],\n",
    "        fill=True,\n",
    "        fill_color=rainbow[cluster-1],\n",
    "        fill_opacity=0.7).add_to(map_clusters)\n",
    "       \n",
    "map_clusters"
   ]
  },
  {
   "cell_type": "code",
   "execution_count": null,
   "metadata": {},
   "outputs": [],
   "source": []
  }
 ],
 "metadata": {
  "kernelspec": {
   "display_name": "Python 3",
   "language": "python",
   "name": "python3"
  },
  "language_info": {
   "codemirror_mode": {
    "name": "ipython",
    "version": 3
   },
   "file_extension": ".py",
   "mimetype": "text/x-python",
   "name": "python",
   "nbconvert_exporter": "python",
   "pygments_lexer": "ipython3",
   "version": "3.7.1"
  }
 },
 "nbformat": 4,
 "nbformat_minor": 2
}
